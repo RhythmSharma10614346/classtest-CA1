{
  "nbformat": 4,
  "nbformat_minor": 0,
  "metadata": {
    "colab": {
      "provenance": [],
      "authorship_tag": "ABX9TyPXxXPKvL8bcJQtFkTxZzWD",
      "include_colab_link": true
    },
    "kernelspec": {
      "name": "python3",
      "display_name": "Python 3"
    },
    "language_info": {
      "name": "python"
    }
  },
  "cells": [
    {
      "cell_type": "markdown",
      "metadata": {
        "id": "view-in-github",
        "colab_type": "text"
      },
      "source": [
        "<a href=\"https://colab.research.google.com/github/RhythmSharma10614346/classtest-CA1/blob/main/CA1_10614346.ipynb\" target=\"_parent\"><img src=\"https://colab.research.google.com/assets/colab-badge.svg\" alt=\"Open In Colab\"/></a>"
      ]
    },
    {
      "cell_type": "code",
      "source": [
        "#define a class employee with \n",
        "#attributes name, weeklyhours, rate, overtimeRate, weeklytaxcredit\n",
        "# and store these in the constructor\n",
        "#(20)\n",
        "#Create a method computeWeeklyPay (self,hours) returning the gross pay of the employee,\n",
        "# which is the hours up to weeklyhours at rate, plus hours above this at overtimeRate\n",
        "#(25)\n",
        "##Create method computeTax(self,grossPay) which returns the tax due at \n",
        "#40% on the gross pay, reduced by the tax credit.\n",
        "#(25)#\n",
        "#\n",
        "#Ensure overtime cannot be negative\n",
        "#(10)\n",
        "#weekly pay cannot be negative\n",
        "#(10)\n",
        "#Tax cannot be negative\n",
        "#(10)\n",
        "\n",
        "#Example:\n",
        "#if weekly hours is 35, rate is 11, overtimeRate is 15 and hours is 39 computeWeeklyPay\n",
        "#should return 35*11 + 4*15 = 445\n",
        "\n",
        "#computeTax(445), if weeklytaxcredit is 70 will return 0.4*445 - 70 = 108"
      ],
      "metadata": {
        "id": "WiPCTc-Sf8mc"
      },
      "execution_count": 2,
      "outputs": []
    },
    {
      "cell_type": "code",
      "source": [
        "#define a class employee with \n",
        "#attributes name, weeklyhours, rate, overtimeRate, weeklytaxcredit\n",
        "# and store these in the constructor\n",
        "\n",
        "class employee:\n",
        " def __init__(self, name, weeklyhours, rate, overtimeRate, weeklytaxcredit ):\n",
        "   self.name = name;\n",
        "   self.weeklyhours = weeklyhours\n",
        "   self.rate = rate\n",
        "   self.overtimeRate = overtimeRate\n",
        "   self.weeklytaxcredit = weeklytaxcredit\n",
        "   \n",
        "#Create a method computeWeeklyPay (self,hours) returning the gross pay of the employee,\n",
        "# which is the hours up to weeklyhours at rate, plus hours above this at overtimeRate\n",
        "\n",
        " def computeWeeklyPay(self, hours):\n",
        "  overtime = float(hours-self.weeklyhours)\n",
        "\n",
        "  if (overtime>=0):\n",
        "    overtime=0.0\n",
        "  total = float(self.weeklyhours*self.rate) + float(overtime*self.overtimeRate);\n",
        "  return total;\n",
        "\n",
        "\n",
        "#Create method computeTax(self,grossPay) which returns the tax due at \n",
        "#40% on the gross pay, reduced by the tax credit.\n",
        " def computeTax(self, grossPay):\n",
        "   tax = float(float(grossPay)*0.4)-self.weeklytaxcredit\n",
        "   if tax<0:\n",
        "     tax=0\n",
        "   return tax;\n",
        "\n",
        "\n",
        "\n"
      ],
      "metadata": {
        "id": "Qh5JkxA5p695"
      },
      "execution_count": 51,
      "outputs": []
    },
    {
      "cell_type": "code",
      "source": [
        " emp1 = employee(\"Rhythm\", 25,12,15,20)\n",
        " grossPay = emp1.computeWeeklyPay(35)\n",
        " tax=emp1.computeTax(35)\n",
        " print(grossPay)\n",
        " print(tax)"
      ],
      "metadata": {
        "colab": {
          "base_uri": "https://localhost:8080/"
        },
        "id": "BebQsJKEvUpW",
        "outputId": "89d71b98-85a4-4930-b3a1-0f78c936d79e"
      },
      "execution_count": 53,
      "outputs": [
        {
          "output_type": "stream",
          "name": "stdout",
          "text": [
            "300.0\n",
            "0\n"
          ]
        }
      ]
    },
    {
      "cell_type": "code",
      "source": [],
      "metadata": {
        "id": "QoJP5QH6xwXW"
      },
      "execution_count": null,
      "outputs": []
    }
  ]
}